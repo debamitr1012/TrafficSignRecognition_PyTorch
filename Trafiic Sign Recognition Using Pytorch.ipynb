{
 "cells": [
  {
   "cell_type": "code",
   "execution_count": 1,
   "id": "4e22ac94",
   "metadata": {},
   "outputs": [],
   "source": [
    "import numpy as np\n",
    "import pandas as pd\n",
    "import matplotlib.pyplot as plt\n",
    "import seaborn as sns\n",
    "\n",
    "from PIL import Image\n",
    "import cv2\n",
    "\n",
    "import torch\n",
    "import torch.nn as nn\n",
    "import torch.nn.functional as F\n",
    "import torch\n",
    "import torch.nn as nn\n",
    "import torch.nn.functional as F\n",
    "from torch.utils.data import TensorDataset,DataLoader,Dataset,random_split\n",
    "import torchvision.transforms as transforms\n",
    "from torch.utils.data.sampler import SubsetRandomSampler\n",
    "import torchvision\n",
    "import torch.optim as optim\n",
    "import torchvision.models as models\n",
    "import argparse\n",
    "import torch.optim as optim\n",
    "from torchvision import datasets, transforms\n",
    "from torch.autograd import Variable\n",
    "\n",
    "import sklearn\n",
    "from sklearn.metrics import cohen_kappa_score,accuracy_score\n",
    "\n",
    "import time\n",
    "from tqdm import tqdm_notebook\n",
    "\n",
    "import os\n"
   ]
  },
  {
   "cell_type": "code",
   "execution_count": 2,
   "id": "492c0daa",
   "metadata": {},
   "outputs": [],
   "source": [
    "train_folder=\"D:\\Jupyter Files\\Traffic Sign Recognition\\GTSRB_Final_Training_Images\\GTSRB\\Final_Training\\Images\"\n",
    "val_folder = 'D:/Jupyter Files/Traffic Sign Recognition/GTSRB_Final_Training_Images/GTSRB\\Final_Training' + '/val_images'\n",
    "if not os.path.isdir(val_folder):\n",
    "    print(val_folder + ' not found, making a validation set')\n",
    "    os.mkdir(val_folder)\n",
    "    for dirs in os.listdir(train_folder):\n",
    "        print(dirs)\n",
    "        if dirs.startswith('000'):\n",
    "            os.mkdir(val_folder + '/' + dirs)\n",
    "            for f in os.listdir(train_folder + '/' + dirs):\n",
    "                if f.startswith('00000') or f.startswith('00001') or f.startswith('00002'):\n",
    "                    # move file to validation folder\n",
    "                    os.rename(train_folder + '/' + dirs + '/' + f, val_folder + '/' + dirs + '/' + f)"
   ]
  },
  {
   "cell_type": "code",
   "execution_count": 3,
   "id": "acaf15e3",
   "metadata": {},
   "outputs": [
    {
     "name": "stdout",
     "output_type": "stream",
     "text": [
      "43\n"
     ]
    }
   ],
   "source": [
    "print(len(os.listdir(train_folder)))"
   ]
  },
  {
   "cell_type": "code",
   "execution_count": 25,
   "id": "cf333c32",
   "metadata": {},
   "outputs": [],
   "source": [
    "nclasses = 43 # GTSRB as 43 classes\n",
    "\n",
    "class Net(nn.Module):\n",
    "    def __init__(self):\n",
    "        super(Net, self).__init__()\n",
    "        self.conv1 = nn.Conv2d(3, 1, kernel_size=1)\n",
    "        self.conv2 = nn.Conv2d(1, 29, kernel_size=5)\n",
    "        self.maxpool2 = nn.MaxPool2d(3, stride=2 , ceil_mode=True)\n",
    "        self.conv3 = nn.Conv2d(29, 59, kernel_size=3)\n",
    "        self.maxpool3 = nn.MaxPool2d(3, stride=2 , ceil_mode=True)\n",
    "        self.conv4 = nn.Conv2d(59, 74, kernel_size=3)\n",
    "        self.maxpool4 = nn.MaxPool2d(3, stride=2 , ceil_mode=True)\n",
    "        self.conv2_drop = nn.Dropout2d()\n",
    "        self.conv3_drop = nn.Dropout2d()\n",
    "        self.fc1 = nn.Linear(1184, 300)\n",
    "        self.fc2 = nn.Linear(300, nclasses)\n",
    "        self.conv0_bn = nn.BatchNorm2d(3)\n",
    "        self.conv1_bn = nn.BatchNorm2d(1)\n",
    "        self.conv2_bn = nn.BatchNorm2d(29)\n",
    "        self.conv3_bn = nn.BatchNorm2d(59)\n",
    "        self.conv4_bn = nn.BatchNorm2d(74)\n",
    "        self.dense1_bn = nn.BatchNorm1d(300)\n",
    "    def forward(self, x):\n",
    "        x =  F.relu(self.conv1_bn(self.conv1(self.conv0_bn(x))))\n",
    "        x = F.relu(self.conv2_bn(self.conv2(x)))\n",
    "        x = F.relu(self.conv3_bn(self.conv3( self.maxpool2(x))))\n",
    "        x = F.relu(self.conv4_bn(self.conv4( self.maxpool3(x))))\n",
    "        x = self.maxpool4(x)        \n",
    "        x = x.view(-1, 1184)\n",
    "        x = F.relu(self.fc1(x))\n",
    "        x = self.dense1_bn(x)\n",
    "        x = F.dropout(x, training=self.training)\n",
    "        x = self.fc2(x)\n",
    "        x = F.dropout(x, training=self.training)\n",
    "        return F.log_softmax(x,dim=1)"
   ]
  },
  {
   "cell_type": "code",
   "execution_count": 29,
   "id": "14c79f95",
   "metadata": {},
   "outputs": [],
   "source": [
    "batch_size =50                                                                                                                                                                                     \n",
    "epochs = 10                                                                                                                                                                                                                                                                                                                                                                               \n",
    "seed = 1                                                                                                                                                                                           \n",
    "log_interval=180   \n",
    "nclasses = 43\n",
    "data = \"D:/Jupyter Files/Traffic Sign Recognition/GTSRB_Final_Training_Images/GTSRB\"                                                                                                                                                                                                                                                                                                                                                                                          \n",
    "torch.manual_seed(1)                                                                                                                                                                               \n",
    "lr =0.007                                                                                                                                                                                          \n",
    "momentum = 0.9                                                                                                                                                                                     \n",
    "decay = 0.9                                                                                                                                                                                        \n",
    "step = 1000                                                                                                                                                                                        \n",
    "l2_norm = 0.00001  \n",
    "cuda = True"
   ]
  },
  {
   "cell_type": "code",
   "execution_count": 6,
   "id": "37fd36e3",
   "metadata": {},
   "outputs": [
    {
     "name": "stdout",
     "output_type": "stream",
     "text": [
      "cuda:0\n"
     ]
    }
   ],
   "source": [
    "# once the images are loaded, how do we pre-process them before being passed into the network\n",
    "# by default, we resize the images to 48 x 48 in size\n",
    "# and normalize them to mean = 0 and standard-deviation = 1 based on statistics collected from\n",
    "# the training set\n",
    "data_transforms = transforms.Compose([\n",
    "#     transforms.ToPILImage(mode='RGB'),\n",
    "    transforms.Resize((48, 48)),\n",
    "    transforms.ToTensor(),\n",
    "    transforms.Normalize((0.3337, 0.3064, 0.3171), ( 0.2672, 0.2564, 0.2629))\n",
    "])\n",
    "train_loader = torch.utils.data.DataLoader(\n",
    "    datasets.ImageFolder(data + '/Final_Training/Images',\n",
    "                         transform=data_transforms),\n",
    "    batch_size=batch_size, shuffle=True, num_workers=1)\n",
    "\n",
    "\n",
    "val_loader = torch.utils.data.DataLoader(\n",
    "    datasets.ImageFolder(data + '/Final_Training/val_images',\n",
    "                         transform=data_transforms),\n",
    "    batch_size=batch_size, shuffle=False, num_workers=1)\n",
    "\n",
    "\n",
    "device = torch.device(\"cuda:0\" if torch.cuda.is_available() else \"cpu\")\n",
    "print(device)\n",
    "model = Net()\n",
    "if cuda: \n",
    "    model.to(device)"
   ]
  },
  {
   "cell_type": "code",
   "execution_count": 7,
   "id": "5f6f7747",
   "metadata": {},
   "outputs": [
    {
     "name": "stdout",
     "output_type": "stream",
     "text": [
      "1.10.0+cu113\n"
     ]
    }
   ],
   "source": [
    "print(torch.__version__) "
   ]
  },
  {
   "cell_type": "code",
   "execution_count": 8,
   "id": "41d13d9e",
   "metadata": {},
   "outputs": [
    {
     "name": "stdout",
     "output_type": "stream",
     "text": [
      "Is CUDA supported by this system?True\n",
      "CUDA version: 11.3\n",
      "ID of current CUDA device:0\n",
      "Name of current CUDA device:GeForce RTX 3050 Ti Laptop GPU\n"
     ]
    }
   ],
   "source": [
    "import torch\n",
    "\n",
    "print(f\"Is CUDA supported by this system?{torch.cuda.is_available()}\")\n",
    "print(f\"CUDA version: {torch.version.cuda}\")\n",
    "\n",
    "# Storing ID of current CUDA device\n",
    "cuda_id = torch.cuda.current_device()\n",
    "print(f\"ID of current CUDA device:{torch.cuda.current_device()}\")\n",
    "\n",
    "print(f\"Name of current CUDA device:{torch.cuda.get_device_name(cuda_id)}\")\n"
   ]
  },
  {
   "cell_type": "code",
   "execution_count": 9,
   "id": "20721278",
   "metadata": {},
   "outputs": [
    {
     "data": {
      "text/plain": [
       "'1.10.0+cu113'"
      ]
     },
     "execution_count": 9,
     "metadata": {},
     "output_type": "execute_result"
    }
   ],
   "source": [
    " torch.__version__"
   ]
  },
  {
   "cell_type": "code",
   "execution_count": 10,
   "id": "98987649",
   "metadata": {},
   "outputs": [
    {
     "data": {
      "text/plain": [
       "['sm_37',\n",
       " 'sm_50',\n",
       " 'sm_60',\n",
       " 'sm_61',\n",
       " 'sm_70',\n",
       " 'sm_75',\n",
       " 'sm_80',\n",
       " 'sm_86',\n",
       " 'compute_37']"
      ]
     },
     "execution_count": 10,
     "metadata": {},
     "output_type": "execute_result"
    }
   ],
   "source": [
    "torch.cuda.get_arch_list()"
   ]
  },
  {
   "cell_type": "code",
   "execution_count": 11,
   "id": "010ce7a4",
   "metadata": {},
   "outputs": [
    {
     "name": "stdout",
     "output_type": "stream",
     "text": [
      "11.3\n"
     ]
    }
   ],
   "source": [
    "print(torch.version.cuda)"
   ]
  },
  {
   "cell_type": "code",
   "execution_count": 23,
   "id": "751d6972",
   "metadata": {},
   "outputs": [],
   "source": [
    "def validation():\n",
    "    model.eval().to(device)\n",
    "    validation_loss = 0\n",
    "    correct = 0\n",
    "    for data, target in val_loader:\n",
    "        data, target = Variable(data, volatile=True), Variable(target)\n",
    "        data =data.to(device)\n",
    "        target =target.to(device)\n",
    "        output = model(data)\n",
    "        validation_loss += F.nll_loss(output, target, size_average=False).data # sum up batch loss\n",
    "        pred = output.data.max(1, keepdim=True)[1] # get the index of the max log-probability\n",
    "        correct += pred.eq(target.data.view_as(pred)).cpu().sum()\n",
    "    validation_loss /= len(val_loader.dataset)\n",
    "    print('\\nValidation set: Average loss: {:.4f}, Accuracy: {}/{} ({:.3f}%)\\n'.format(\n",
    "        validation_loss, correct, len(val_loader.dataset),\n",
    "        100. * correct / len(val_loader.dataset)))\n",
    "    return validation_loss\n",
    "\n",
    "def train(epoch , train_loader):\n",
    "    model.train().to(device)\n",
    "    for batch_idx, (data, target) in enumerate(train_loader):\n",
    "        data, target = Variable(data), Variable(target)\n",
    "        data = data.to(device)\n",
    "        target = target.to(device)\n",
    "        optimizer.zero_grad()\n",
    "        output = model(data)\n",
    "        loss = F.nll_loss(output, target).cuda()\n",
    "        loss.backward()\n",
    "        optimizer.step()\n",
    "        if batch_idx % log_interval == 0:\n",
    "            print('Train Epoch: {} [{}/{} ({:.0f}%)]\\tLoss: {:.6f}'.format(\n",
    "                epoch, batch_idx * len(data), len(train_loader.dataset),\n",
    "                100. * batch_idx / len(train_loader),\n",
    "                loss.data))"
   ]
  },
  {
   "cell_type": "code",
   "execution_count": 14,
   "id": "c379a340",
   "metadata": {},
   "outputs": [],
   "source": [
    "optimizer = torch.optim.SGD(model.parameters(), lr=lr , momentum=momentum, weight_decay=l2_norm, nesterov=True)\n",
    "scheduler = torch.optim.lr_scheduler.ExponentialLR(optimizer, gamma=decay)"
   ]
  },
  {
   "cell_type": "code",
   "execution_count": 15,
   "id": "96bbbd14",
   "metadata": {
    "scrolled": true
   },
   "outputs": [
    {
     "data": {
      "text/plain": [
       "True"
      ]
     },
     "execution_count": 15,
     "metadata": {},
     "output_type": "execute_result"
    }
   ],
   "source": [
    "torch.cuda.is_available()"
   ]
  },
  {
   "cell_type": "code",
   "execution_count": 21,
   "id": "cc3496a7",
   "metadata": {},
   "outputs": [
    {
     "data": {
      "text/plain": [
       "device(type='cuda', index=0)"
      ]
     },
     "execution_count": 21,
     "metadata": {},
     "output_type": "execute_result"
    }
   ],
   "source": [
    "device = torch.device(\"cuda:0\")\n",
    "device"
   ]
  },
  {
   "cell_type": "code",
   "execution_count": 22,
   "id": "8ad60730",
   "metadata": {},
   "outputs": [
    {
     "name": "stdout",
     "output_type": "stream",
     "text": [
      "Running on the GPU\n"
     ]
    }
   ],
   "source": [
    "if torch.cuda.is_available():\n",
    "    device = torch.device(\"cuda:0\")  # you can continue going on here, like cuda:1 cuda:2....etc. \n",
    "    print(\"Running on the GPU\")\n",
    "else:\n",
    "    device = torch.device(\"cpu\")\n",
    "    print(\"Running on the CPU\")"
   ]
  },
  {
   "cell_type": "code",
   "execution_count": 30,
   "id": "bd39026d",
   "metadata": {},
   "outputs": [
    {
     "name": "stderr",
     "output_type": "stream",
     "text": [
      "C:\\Users\\Heril\\AppData\\Local\\Temp/ipykernel_22392/969698797.py:35: UserWarning: Implicit dimension choice for log_softmax has been deprecated. Change the call to include dim=X as an argument.\n",
      "  return F.log_softmax(x)\n"
     ]
    },
    {
     "name": "stdout",
     "output_type": "stream",
     "text": [
      "Train Epoch: 1 [0/35339 (0%)]\tLoss: 1.543495\n",
      "Train Epoch: 1 [9000/35339 (25%)]\tLoss: 1.645278\n",
      "Train Epoch: 1 [18000/35339 (51%)]\tLoss: 1.774875\n",
      "Train Epoch: 1 [27000/35339 (76%)]\tLoss: 1.777056\n"
     ]
    },
    {
     "name": "stderr",
     "output_type": "stream",
     "text": [
      "C:\\Users\\Heril\\AppData\\Local\\Temp/ipykernel_22392/3649215005.py:6: UserWarning: volatile was removed and now has no effect. Use `with torch.no_grad():` instead.\n",
      "  data, target = Variable(data, volatile=True), Variable(target)\n"
     ]
    },
    {
     "name": "stdout",
     "output_type": "stream",
     "text": [
      "\n",
      "Validation set: Average loss: 0.3988, Accuracy: 3618/3870 (93.488%)\n",
      "\n",
      "Train Epoch: 2 [0/35339 (0%)]\tLoss: 1.234313\n",
      "Train Epoch: 2 [9000/35339 (25%)]\tLoss: 1.537463\n",
      "Train Epoch: 2 [18000/35339 (51%)]\tLoss: 1.385032\n",
      "Train Epoch: 2 [27000/35339 (76%)]\tLoss: 2.046384\n",
      "\n",
      "Validation set: Average loss: 0.2937, Accuracy: 3687/3870 (95.271%)\n",
      "\n",
      "Train Epoch: 3 [0/35339 (0%)]\tLoss: 1.825904\n",
      "Train Epoch: 3 [9000/35339 (25%)]\tLoss: 1.782866\n",
      "Train Epoch: 3 [18000/35339 (51%)]\tLoss: 1.756194\n",
      "Train Epoch: 3 [27000/35339 (76%)]\tLoss: 1.916050\n",
      "\n",
      "Validation set: Average loss: 0.2802, Accuracy: 3707/3870 (95.788%)\n",
      "\n",
      "Train Epoch: 4 [0/35339 (0%)]\tLoss: 1.625724\n",
      "Train Epoch: 4 [9000/35339 (25%)]\tLoss: 1.454638\n",
      "Train Epoch: 4 [18000/35339 (51%)]\tLoss: 1.436962\n",
      "Train Epoch: 4 [27000/35339 (76%)]\tLoss: 1.683388\n",
      "\n",
      "Validation set: Average loss: 0.2824, Accuracy: 3723/3870 (96.202%)\n",
      "\n",
      "Train Epoch: 5 [0/35339 (0%)]\tLoss: 1.507162\n",
      "Train Epoch: 5 [9000/35339 (25%)]\tLoss: 1.396106\n",
      "Train Epoch: 5 [18000/35339 (51%)]\tLoss: 1.481049\n",
      "Train Epoch: 5 [27000/35339 (76%)]\tLoss: 1.726378\n",
      "\n",
      "Validation set: Average loss: 0.2860, Accuracy: 3712/3870 (95.917%)\n",
      "\n",
      "Train Epoch: 6 [0/35339 (0%)]\tLoss: 1.805421\n",
      "Train Epoch: 6 [9000/35339 (25%)]\tLoss: 1.560729\n",
      "Train Epoch: 6 [18000/35339 (51%)]\tLoss: 1.760770\n",
      "Train Epoch: 6 [27000/35339 (76%)]\tLoss: 1.391019\n",
      "\n",
      "Validation set: Average loss: 0.2676, Accuracy: 3711/3870 (95.891%)\n",
      "\n",
      "Train Epoch: 7 [0/35339 (0%)]\tLoss: 1.582648\n",
      "Train Epoch: 7 [9000/35339 (25%)]\tLoss: 1.708994\n",
      "Train Epoch: 7 [18000/35339 (51%)]\tLoss: 1.840389\n",
      "Train Epoch: 7 [27000/35339 (76%)]\tLoss: 1.622700\n",
      "\n",
      "Validation set: Average loss: 0.2180, Accuracy: 3755/3870 (97.028%)\n",
      "\n",
      "Train Epoch: 8 [0/35339 (0%)]\tLoss: 1.531786\n",
      "Train Epoch: 8 [9000/35339 (25%)]\tLoss: 1.915344\n",
      "Train Epoch: 8 [18000/35339 (51%)]\tLoss: 1.890935\n",
      "Train Epoch: 8 [27000/35339 (76%)]\tLoss: 1.750971\n",
      "\n",
      "Validation set: Average loss: 0.2125, Accuracy: 3756/3870 (97.054%)\n",
      "\n",
      "Train Epoch: 9 [0/35339 (0%)]\tLoss: 2.083681\n",
      "Train Epoch: 9 [9000/35339 (25%)]\tLoss: 1.448918\n",
      "Train Epoch: 9 [18000/35339 (51%)]\tLoss: 1.543360\n",
      "Train Epoch: 9 [27000/35339 (76%)]\tLoss: 1.567379\n",
      "\n",
      "Validation set: Average loss: 0.1703, Accuracy: 3774/3870 (97.519%)\n",
      "\n"
     ]
    }
   ],
   "source": [
    "for epoch in range(1, epochs):\n",
    "    train(epoch, train_loader)\n",
    "    val = validation()\n",
    "    if epoch % step :\n",
    "        scheduler.step()"
   ]
  },
  {
   "cell_type": "code",
   "execution_count": 31,
   "id": "0ff218cd",
   "metadata": {},
   "outputs": [],
   "source": [
    "model_file = 'model_' + str(epoch) + '.pth'\n",
    "torch.save(model.state_dict(), model_file)"
   ]
  },
  {
   "cell_type": "code",
   "execution_count": 33,
   "id": "bcabe00e",
   "metadata": {
    "scrolled": true
   },
   "outputs": [
    {
     "data": {
      "text/html": [
       "<div>\n",
       "<style scoped>\n",
       "    .dataframe tbody tr th:only-of-type {\n",
       "        vertical-align: middle;\n",
       "    }\n",
       "\n",
       "    .dataframe tbody tr th {\n",
       "        vertical-align: top;\n",
       "    }\n",
       "\n",
       "    .dataframe thead th {\n",
       "        text-align: right;\n",
       "    }\n",
       "</style>\n",
       "<table border=\"1\" class=\"dataframe\">\n",
       "  <thead>\n",
       "    <tr style=\"text-align: right;\">\n",
       "      <th></th>\n",
       "      <th>Filename</th>\n",
       "      <th>ClassId</th>\n",
       "    </tr>\n",
       "  </thead>\n",
       "  <tbody>\n",
       "    <tr>\n",
       "      <th>0</th>\n",
       "      <td>00000.ppm</td>\n",
       "      <td>16</td>\n",
       "    </tr>\n",
       "    <tr>\n",
       "      <th>1</th>\n",
       "      <td>00001.ppm</td>\n",
       "      <td>1</td>\n",
       "    </tr>\n",
       "    <tr>\n",
       "      <th>2</th>\n",
       "      <td>00002.ppm</td>\n",
       "      <td>38</td>\n",
       "    </tr>\n",
       "    <tr>\n",
       "      <th>3</th>\n",
       "      <td>00003.ppm</td>\n",
       "      <td>33</td>\n",
       "    </tr>\n",
       "    <tr>\n",
       "      <th>4</th>\n",
       "      <td>00004.ppm</td>\n",
       "      <td>11</td>\n",
       "    </tr>\n",
       "  </tbody>\n",
       "</table>\n",
       "</div>"
      ],
      "text/plain": [
       "    Filename  ClassId\n",
       "0  00000.ppm       16\n",
       "1  00001.ppm        1\n",
       "2  00002.ppm       38\n",
       "3  00003.ppm       33\n",
       "4  00004.ppm       11"
      ]
     },
     "execution_count": 33,
     "metadata": {},
     "output_type": "execute_result"
    }
   ],
   "source": [
    "test_csv=pd.read_csv('D:/Jupyter Files/Traffic Sign Recognition/GTSRB_Final_Test_GT/GT-final_test.csv',sep=';')\n",
    "test_csv = test_csv[['Filename','ClassId']]\n",
    "test_csv.head()"
   ]
  },
  {
   "cell_type": "code",
   "execution_count": 35,
   "id": "2e82fa65",
   "metadata": {},
   "outputs": [],
   "source": [
    "class CreateTestDataset(Dataset):\n",
    "    # the init method or the constructor method \n",
    "    def __init__(self,df_data,data_dir='../input/',transform=None):\n",
    "        \n",
    "        # the super() method dynamically represents the base class and super().__init__() calls the init method of base class \n",
    "        super().__init__()\n",
    "        self.df=df_data.values\n",
    "        self.data_dir=data_dir\n",
    "        self.transform=transform\n",
    "        \n",
    "    # gives the length when len(instance) is called\n",
    "    def __len__(self):\n",
    "        return len(self.df)\n",
    "    \n",
    "    # getitem is used for extracting the instances attributes; generally used with lists , tuples\n",
    "    def __getitem__(self,index):\n",
    "        img_name,label=self.df[index]\n",
    "        img_path=os.path.join(self.data_dir,img_name)\n",
    "#         print(self.data_dir)\n",
    "#         print(img_path)\n",
    "        image=Image.open(img_path)\n",
    "        \n",
    "        if self.transform is not None:\n",
    "            image=self.transform(image)\n",
    "            \n",
    "        return image,label"
   ]
  },
  {
   "cell_type": "code",
   "execution_count": 36,
   "id": "a8a263f8",
   "metadata": {},
   "outputs": [],
   "source": [
    "test_path=\"D:/Jupyter Files/Traffic Sign Recognition/GTSRB_Final_Test_Images/GTSRB\\Final_Test/Images\"\n",
    "test_dataset=CreateTestDataset(df_data=test_csv,data_dir=test_path,transform=data_transforms)\n",
    "test_loader=DataLoader(test_dataset,batch_size=batch_size,shuffle=True)"
   ]
  },
  {
   "cell_type": "code",
   "execution_count": 37,
   "id": "322fd4d6",
   "metadata": {},
   "outputs": [],
   "source": [
    "def predict_image(img, model):\n",
    "    # Convert to a batch of 1\n",
    "    xb = img.unsqueeze(0).to(device)\n",
    "    # Get predictions from model\n",
    "    yb = model(xb)\n",
    "    # Pick index with highest probability\n",
    "    _, preds  = torch.max(yb, dim=1)\n",
    "    # Retrieve the class label\n",
    "    return preds[0].item()"
   ]
  },
  {
   "cell_type": "code",
   "execution_count": 38,
   "id": "981333eb",
   "metadata": {},
   "outputs": [
    {
     "name": "stderr",
     "output_type": "stream",
     "text": [
      "Clipping input data to the valid range for imshow with RGB data ([0..1] for floats or [0..255] for integers).\n"
     ]
    },
    {
     "name": "stdout",
     "output_type": "stream",
     "text": [
      "Label: 1 , Predicted: 1\n"
     ]
    },
    {
     "name": "stderr",
     "output_type": "stream",
     "text": [
      "C:\\Users\\Heril\\AppData\\Local\\Temp/ipykernel_22392/969698797.py:35: UserWarning: Implicit dimension choice for log_softmax has been deprecated. Change the call to include dim=X as an argument.\n",
      "  return F.log_softmax(x)\n"
     ]
    },
    {
     "data": {
      "image/png": "[encoded data removed]",
      "text/plain": [
       "<Figure size 432x288 with 1 Axes>"
      ]
     },
     "metadata": {
      "needs_background": "light"
     },
     "output_type": "display_data"
    }
   ],
   "source": [
    "img,label= test_dataset[100]\n",
    "plt.imshow(img.permute(1,2,0))\n",
    "print('Label:',label, ', Predicted:', predict_image(img, model))"
   ]
  },
  {
   "cell_type": "code",
   "execution_count": 39,
   "id": "a1ec06fd",
   "metadata": {},
   "outputs": [],
   "source": [
    "def get_labels_preds(dataset):\n",
    "    sum=0\n",
    "    labels=[]\n",
    "    preds=[]\n",
    "    for i in range(len(dataset)):\n",
    "        img,label=dataset[i]\n",
    "        x_test=predict_image(img,model)\n",
    "        labels.append(label)\n",
    "        preds.append(x_test)\n",
    "    return labels,preds"
   ]
  },
  {
   "cell_type": "code",
   "execution_count": 40,
   "id": "689dcfb2",
   "metadata": {},
   "outputs": [
    {
     "name": "stderr",
     "output_type": "stream",
     "text": [
      "C:\\Users\\Heril\\AppData\\Local\\Temp/ipykernel_22392/969698797.py:35: UserWarning: Implicit dimension choice for log_softmax has been deprecated. Change the call to include dim=X as an argument.\n",
      "  return F.log_softmax(x)\n"
     ]
    },
    {
     "name": "stdout",
     "output_type": "stream",
     "text": [
      "Accuracy: 0.9792\n",
      "Precision: 0.9795\n",
      "Recall: 0.9792\n",
      "F1 Score: 0.9789\n",
      "Cohen Kappa Score: 0.9784\n",
      "MCC: 0.9784\n",
      "\t\tClassification Report:\n",
      "               precision    recall  f1-score   support\n",
      "\n",
      "           0       1.00      0.97      0.98        60\n",
      "           1       0.99      1.00      1.00       720\n",
      "           2       0.98      1.00      0.99       750\n",
      "           3       0.99      0.95      0.97       450\n",
      "           4       1.00      0.99      0.99       660\n",
      "           5       0.92      0.99      0.95       630\n",
      "           6       1.00      0.87      0.93       150\n",
      "           7       0.98      0.99      0.98       450\n",
      "           8       0.97      1.00      0.99       450\n",
      "           9       0.98      1.00      0.99       480\n",
      "          10       1.00      0.99      1.00       660\n",
      "          11       0.99      0.99      0.99       420\n",
      "          12       0.97      1.00      0.98       690\n",
      "          13       1.00      1.00      1.00       720\n",
      "          14       1.00      1.00      1.00       270\n",
      "          15       0.97      1.00      0.99       210\n",
      "          16       0.98      0.99      0.99       150\n",
      "          17       1.00      0.97      0.98       360\n",
      "          18       0.96      0.94      0.95       390\n",
      "          19       0.98      1.00      0.99        60\n",
      "          20       0.85      1.00      0.92        90\n",
      "          21       0.84      0.69      0.76        90\n",
      "          22       0.98      0.95      0.97       120\n",
      "          23       0.97      0.98      0.97       150\n",
      "          24       1.00      0.96      0.98        90\n",
      "          25       0.98      0.99      0.99       480\n",
      "          26       0.96      0.97      0.96       180\n",
      "          27       0.81      0.78      0.80        60\n",
      "          28       0.96      1.00      0.98       150\n",
      "          29       0.95      1.00      0.97        90\n",
      "          30       0.97      0.81      0.88       150\n",
      "          31       0.99      1.00      1.00       270\n",
      "          32       1.00      1.00      1.00        60\n",
      "          33       1.00      1.00      1.00       210\n",
      "          34       0.99      0.99      0.99       120\n",
      "          35       0.99      0.98      0.99       390\n",
      "          36       0.99      1.00      1.00       120\n",
      "          37       1.00      0.98      0.99        60\n",
      "          38       0.99      0.98      0.99       690\n",
      "          39       0.98      0.97      0.97        90\n",
      "          40       0.97      0.81      0.88        90\n",
      "          41       1.00      0.85      0.92        60\n",
      "          42       0.98      1.00      0.99        90\n",
      "\n",
      "    accuracy                           0.98     12630\n",
      "   macro avg       0.97      0.96      0.97     12630\n",
      "weighted avg       0.98      0.98      0.98     12630\n",
      "\n"
     ]
    }
   ],
   "source": [
    "from sklearn import metrics\n",
    "y_test,y_pred=get_labels_preds(test_dataset)\n",
    "print('Accuracy:', np.round(metrics.accuracy_score(y_test, y_pred),4))\n",
    "print('Precision:', np.round(metrics.precision_score(y_test, y_pred, average='weighted'),4))\n",
    "print('Recall:', np.round(metrics.recall_score(y_test,y_pred, average='weighted'),4))\n",
    "print('F1 Score:', np.round(metrics.f1_score(y_test, y_pred, average='weighted'),4))\n",
    "print('Cohen Kappa Score:', np.round(metrics.cohen_kappa_score(y_test, y_pred),4))\n",
    "print('MCC:', np.round(metrics.matthews_corrcoef(y_test, y_pred),4))\n",
    "print('\\t\\tClassification Report:\\n', metrics.classification_report(y_test, y_pred))"
   ]
  }
 ],
 "metadata": {
  "kernelspec": {
   "display_name": "Python 3 (ipykernel)",
   "language": "python",
   "name": "python3"
  },
  "language_info": {
   "codemirror_mode": {
    "name": "ipython",
    "version": 3
   },
   "file_extension": ".py",
   "mimetype": "text/x-python",
   "name": "python",
   "nbconvert_exporter": "python",
   "pygments_lexer": "ipython3",
   "version": "3.9.7"
  }
 },
 "nbformat": 4,
 "nbformat_minor": 5
}
